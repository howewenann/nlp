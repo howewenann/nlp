{
 "cells": [
  {
   "cell_type": "code",
   "execution_count": null,
   "metadata": {},
   "outputs": [],
   "source": []
  },
  {
   "cell_type": "code",
   "execution_count": 1,
   "metadata": {},
   "outputs": [],
   "source": [
    "from pathlib import Path"
   ]
  },
  {
   "cell_type": "code",
   "execution_count": 2,
   "metadata": {},
   "outputs": [],
   "source": [
    "import pandas as pd\n",
    "import numpy as np\n",
    "import string"
   ]
  },
  {
   "cell_type": "code",
   "execution_count": 3,
   "metadata": {},
   "outputs": [],
   "source": [
    "import spacy\n",
    "from spacy.lang.en.stop_words import STOP_WORDS\n",
    "from spacy.lang.en import English"
   ]
  },
  {
   "cell_type": "code",
   "execution_count": 4,
   "metadata": {},
   "outputs": [],
   "source": [
    "from sklearn.feature_extraction.text import CountVectorizer,TfidfVectorizer\n",
    "from sklearn.decomposition import NMF, TruncatedSVD"
   ]
  },
  {
   "cell_type": "markdown",
   "metadata": {},
   "source": [
    "#### Directories"
   ]
  },
  {
   "cell_type": "code",
   "execution_count": 5,
   "metadata": {},
   "outputs": [],
   "source": [
    "proj_dir = Path().absolute().parents[0]\n",
    "data_dir = Path(proj_dir, 'data')"
   ]
  },
  {
   "cell_type": "markdown",
   "metadata": {},
   "source": [
    "#### Read in data"
   ]
  },
  {
   "cell_type": "code",
   "execution_count": 6,
   "metadata": {},
   "outputs": [],
   "source": [
    "reviews = pd.read_csv(Path(data_dir, 'raw', 'comcast_consumeraffairs_complaints.csv'))"
   ]
  },
  {
   "cell_type": "code",
   "execution_count": 7,
   "metadata": {},
   "outputs": [
    {
     "data": {
      "text/html": [
       "<div>\n",
       "<style scoped>\n",
       "    .dataframe tbody tr th:only-of-type {\n",
       "        vertical-align: middle;\n",
       "    }\n",
       "\n",
       "    .dataframe tbody tr th {\n",
       "        vertical-align: top;\n",
       "    }\n",
       "\n",
       "    .dataframe thead th {\n",
       "        text-align: right;\n",
       "    }\n",
       "</style>\n",
       "<table border=\"1\" class=\"dataframe\">\n",
       "  <thead>\n",
       "    <tr style=\"text-align: right;\">\n",
       "      <th></th>\n",
       "      <th>author</th>\n",
       "      <th>posted_on</th>\n",
       "      <th>rating</th>\n",
       "      <th>text</th>\n",
       "    </tr>\n",
       "  </thead>\n",
       "  <tbody>\n",
       "    <tr>\n",
       "      <th>0</th>\n",
       "      <td>Alantae of Chesterfeild, MI</td>\n",
       "      <td>Nov. 22, 2016</td>\n",
       "      <td>1</td>\n",
       "      <td>I used to love Comcast. Until all these consta...</td>\n",
       "    </tr>\n",
       "    <tr>\n",
       "      <th>1</th>\n",
       "      <td>Vera of Philadelphia, PA</td>\n",
       "      <td>Nov. 19, 2016</td>\n",
       "      <td>1</td>\n",
       "      <td>I'm so over Comcast! The worst internet provid...</td>\n",
       "    </tr>\n",
       "    <tr>\n",
       "      <th>2</th>\n",
       "      <td>Sarah of Rancho Cordova, CA</td>\n",
       "      <td>Nov. 17, 2016</td>\n",
       "      <td>1</td>\n",
       "      <td>If I could give them a negative star or no sta...</td>\n",
       "    </tr>\n",
       "    <tr>\n",
       "      <th>3</th>\n",
       "      <td>Dennis of Manchester, NH</td>\n",
       "      <td>Nov. 16, 2016</td>\n",
       "      <td>1</td>\n",
       "      <td>I've had the worst experiences so far since in...</td>\n",
       "    </tr>\n",
       "    <tr>\n",
       "      <th>4</th>\n",
       "      <td>Ryan of Bellevue, WA</td>\n",
       "      <td>Nov. 14, 2016</td>\n",
       "      <td>1</td>\n",
       "      <td>Check your contract when you sign up for Comca...</td>\n",
       "    </tr>\n",
       "  </tbody>\n",
       "</table>\n",
       "</div>"
      ],
      "text/plain": [
       "                        author      posted_on  rating  \\\n",
       "0  Alantae of Chesterfeild, MI  Nov. 22, 2016       1   \n",
       "1     Vera of Philadelphia, PA  Nov. 19, 2016       1   \n",
       "2  Sarah of Rancho Cordova, CA  Nov. 17, 2016       1   \n",
       "3     Dennis of Manchester, NH  Nov. 16, 2016       1   \n",
       "4         Ryan of Bellevue, WA  Nov. 14, 2016       1   \n",
       "\n",
       "                                                text  \n",
       "0  I used to love Comcast. Until all these consta...  \n",
       "1  I'm so over Comcast! The worst internet provid...  \n",
       "2  If I could give them a negative star or no sta...  \n",
       "3  I've had the worst experiences so far since in...  \n",
       "4  Check your contract when you sign up for Comca...  "
      ]
     },
     "execution_count": 7,
     "metadata": {},
     "output_type": "execute_result"
    }
   ],
   "source": [
    "reviews.head()"
   ]
  },
  {
   "cell_type": "markdown",
   "metadata": {},
   "source": [
    "#### Plot ratings"
   ]
  },
  {
   "cell_type": "code",
   "execution_count": 8,
   "metadata": {},
   "outputs": [
    {
     "data": {
      "text/plain": [
       "<matplotlib.axes._subplots.AxesSubplot at 0x18b241a7488>"
      ]
     },
     "execution_count": 8,
     "metadata": {},
     "output_type": "execute_result"
    },
    {
     "data": {
      "image/png": "[encoded data removed]",
      "text/plain": [
       "<Figure size 432x288 with 1 Axes>"
      ]
     },
     "metadata": {
      "needs_background": "light"
     },
     "output_type": "display_data"
    }
   ],
   "source": [
    "reviews['rating'].plot.hist()"
   ]
  },
  {
   "cell_type": "markdown",
   "metadata": {},
   "source": [
    "#### Tokenize"
   ]
  },
  {
   "cell_type": "code",
   "execution_count": 9,
   "metadata": {},
   "outputs": [],
   "source": [
    "spacy_nlp = spacy.load('en_core_web_sm')\n",
    "stop_words = STOP_WORDS\n",
    "punctuations = string.punctuation"
   ]
  },
  {
   "cell_type": "code",
   "execution_count": 10,
   "metadata": {},
   "outputs": [],
   "source": [
    "# Creating our tokenizer function\n",
    "def spacy_tokenizer(sentence):\n",
    "    # Creating our token object, which is used to create documents with linguistic annotations.\n",
    "    mytokens = spacy_nlp(sentence)\n",
    "\n",
    "    # Lemmatizing each token and converting each token into lowercase\n",
    "    mytokens = [ word.lemma_.lower().strip() if word.lemma_ != \"-PRON-\" else word.lower_ for word in mytokens ]\n",
    "\n",
    "    # Removing stop words\n",
    "    mytokens = [ word for word in mytokens if word not in stop_words and word not in punctuations ]\n",
    "\n",
    "    # return preprocessed list of tokens\n",
    "    return mytokens"
   ]
  },
  {
   "cell_type": "code",
   "execution_count": 11,
   "metadata": {},
   "outputs": [],
   "source": [
    "tfidf_vector = TfidfVectorizer(tokenizer = spacy_tokenizer, max_features = 10000)"
   ]
  },
  {
   "cell_type": "code",
   "execution_count": 12,
   "metadata": {},
   "outputs": [],
   "source": [
    "reviews['text'] = reviews['text'].astype('str')"
   ]
  },
  {
   "cell_type": "code",
   "execution_count": 13,
   "metadata": {},
   "outputs": [
    {
     "name": "stderr",
     "output_type": "stream",
     "text": [
      "D:\\ProgramData\\Anaconda3\\envs\\deep_learning\\lib\\site-packages\\sklearn\\feature_extraction\\text.py:507: UserWarning: The parameter 'token_pattern' will not be used since 'tokenizer' is not None'\n",
      "  warnings.warn(\"The parameter 'token_pattern' will not be used\"\n"
     ]
    },
    {
     "data": {
      "text/plain": [
       "TfidfVectorizer(analyzer='word', binary=False, decode_error='strict',\n",
       "                dtype=<class 'numpy.float64'>, encoding='utf-8',\n",
       "                input='content', lowercase=True, max_df=1.0, max_features=10000,\n",
       "                min_df=1, ngram_range=(1, 1), norm='l2', preprocessor=None,\n",
       "                smooth_idf=True, stop_words=None, strip_accents=None,\n",
       "                sublinear_tf=False, token_pattern='(?u)\\\\b\\\\w\\\\w+\\\\b',\n",
       "                tokenizer=<function spacy_tokenizer at 0x0000018B28020678>,\n",
       "                use_idf=True, vocabulary=None)"
      ]
     },
     "execution_count": 13,
     "metadata": {},
     "output_type": "execute_result"
    }
   ],
   "source": [
    "tfidf_vector.fit(reviews['text'])"
   ]
  },
  {
   "cell_type": "code",
   "execution_count": 14,
   "metadata": {},
   "outputs": [],
   "source": [
    "dtm = tfidf_vector.transform(reviews['text'])"
   ]
  },
  {
   "cell_type": "code",
   "execution_count": 15,
   "metadata": {},
   "outputs": [
    {
     "data": {
      "text/plain": [
       "(5659, 10000)"
      ]
     },
     "execution_count": 15,
     "metadata": {},
     "output_type": "execute_result"
    }
   ],
   "source": [
    "dtm.shape"
   ]
  },
  {
   "cell_type": "markdown",
   "metadata": {},
   "source": [
    "#### N topics"
   ]
  },
  {
   "cell_type": "code",
   "execution_count": 16,
   "metadata": {},
   "outputs": [],
   "source": [
    "n_topics = 20"
   ]
  },
  {
   "cell_type": "markdown",
   "metadata": {},
   "source": [
    "#### SVD"
   ]
  },
  {
   "cell_type": "code",
   "execution_count": 17,
   "metadata": {},
   "outputs": [
    {
     "data": {
      "text/plain": [
       "TruncatedSVD(algorithm='randomized', n_components=20, n_iter=5,\n",
       "             random_state=123, tol=0.0)"
      ]
     },
     "execution_count": 17,
     "metadata": {},
     "output_type": "execute_result"
    }
   ],
   "source": [
    "svd = TruncatedSVD(n_components=n_topics, random_state=123)\n",
    "svd.fit(dtm)"
   ]
  },
  {
   "cell_type": "code",
   "execution_count": 18,
   "metadata": {},
   "outputs": [
    {
     "data": {
      "text/plain": [
       "(5659, 20)"
      ]
     },
     "execution_count": 18,
     "metadata": {},
     "output_type": "execute_result"
    }
   ],
   "source": [
    "svd.transform(dtm).shape"
   ]
  },
  {
   "cell_type": "code",
   "execution_count": 19,
   "metadata": {},
   "outputs": [
    {
     "data": {
      "text/plain": [
       "array([[ 0.1411988 , -0.05080584,  0.11678394, ...,  0.01082912,\n",
       "         0.00381002,  0.03376831],\n",
       "       [ 0.20315614, -0.0205252 ,  0.12208096, ...,  0.01179634,\n",
       "        -0.01131184, -0.02837379],\n",
       "       [ 0.24135629,  0.02432883,  0.03564981, ...,  0.01654153,\n",
       "        -0.0351021 ,  0.01836622],\n",
       "       ...,\n",
       "       [ 0.21281701,  0.06177949,  0.02420473, ...,  0.05969446,\n",
       "         0.03399697, -0.11266856],\n",
       "       [ 0.26173268,  0.11089373,  0.08535219, ...,  0.00848069,\n",
       "        -0.03227742,  0.12586026],\n",
       "       [ 0.31867022, -0.14923647,  0.11316476, ...,  0.03356217,\n",
       "         0.00706531, -0.08415831]])"
      ]
     },
     "execution_count": 19,
     "metadata": {},
     "output_type": "execute_result"
    }
   ],
   "source": [
    "svd.transform(dtm)"
   ]
  },
  {
   "cell_type": "code",
   "execution_count": 20,
   "metadata": {},
   "outputs": [
    {
     "data": {
      "text/plain": [
       "(20, 10000)"
      ]
     },
     "execution_count": 20,
     "metadata": {},
     "output_type": "execute_result"
    }
   ],
   "source": [
    "svd.components_.shape"
   ]
  },
  {
   "cell_type": "code",
   "execution_count": 21,
   "metadata": {},
   "outputs": [
    {
     "name": "stdout",
     "output_type": "stream",
     "text": [
      "Topic 0: \n",
      "['service', 'comcast', 'tell', 'bill', 'time', 'customer', 'internet']\n",
      "Topic 1: \n",
      "['bill', 'month', 'charge', 'pay', 'fee', 'payment', 'account']\n",
      "Topic 2: \n",
      "['internet', 'speed', 'channel', 'cable', 'tv', 'box', 'month']\n",
      "Topic 3: \n",
      "['box', 'cable', 'channel', 'tell', 'bill', 'charge', 'come']\n",
      "Topic 4: \n",
      "['modem', 'speed', 'internet', 'bill', 'tech', 'charge', 'problem']\n",
      "Topic 5: \n",
      "['nan', 'technician', 'company', 'agent', 'tech', 'send', 'issue']\n",
      "Topic 6: \n",
      "['account', 'box', 'comcast', 'modem', 'equipment', 'return', 'collection']\n",
      "Topic 7: \n",
      "['modem', 'tell', 'contract', 'package', 'price', 'channel', 'sign']\n",
      "Topic 8: \n",
      "['charge', 'service', 'modem', 'equipment', 'customer', 'fee', 'return']\n",
      "Topic 9: \n",
      "['appointment', 'speed', 'internet', 'comcast', 'cancel', 'technician', 'tell']\n",
      "Topic 10: \n",
      "['speed', 'box', 'charge', 'customer', 'high', 'minute', 'hold']\n",
      "Topic 11: \n",
      "['...', 'equipment', 'company', 'bad', 'box', 'cable', 'return']\n",
      "Topic 12: \n",
      "['phone', 'service', 'internet', 'bill', 'number', 'box', 'hour']\n",
      "Topic 13: \n",
      "['modem', 'channel', 'pay', 'tv', 'payment', 'phone', 'bill']\n",
      "Topic 14: \n",
      "['charge', 'tv', 'month', 'phone', 'credit', '...', 'account']\n",
      "Topic 15: \n",
      "['fee', 'payment', 'account', 'charge', 'tech', 'number', 'contract']\n",
      "Topic 16: \n",
      "['tech', 'service', 'channel', 'contract', 'email', 'pay', '2']\n",
      "Topic 17: \n",
      "['comcast', 'email', '...', 'charge', 'equipment', 'bill', 'channel']\n",
      "Topic 18: \n",
      "['equipment', 'tell', 'charge', 'phone', 'channel', 'tech', 'come']\n",
      "Topic 19: \n",
      "['cable', 'tech', '...', 'credit', 'email', 'hold', 'issue']\n"
     ]
    }
   ],
   "source": [
    "terms = tfidf_vector.get_feature_names()\n",
    "\n",
    "for i, comp in enumerate(svd.components_):\n",
    "    terms_comp = zip(terms, comp)\n",
    "    sorted_terms = sorted(terms_comp, key= lambda x:x[1], reverse=True)[:7]\n",
    "    print(\"Topic \"+str(i)+\": \")\n",
    "    print([x[0] for x in sorted_terms])"
   ]
  },
  {
   "cell_type": "markdown",
   "metadata": {},
   "source": [
    "#### NMF"
   ]
  },
  {
   "cell_type": "code",
   "execution_count": 22,
   "metadata": {},
   "outputs": [
    {
     "data": {
      "text/plain": [
       "NMF(alpha=0.0, beta_loss='frobenius', init=None, l1_ratio=0.0, max_iter=200,\n",
       "    n_components=20, random_state=123, shuffle=False, solver='cd', tol=0.0001,\n",
       "    verbose=0)"
      ]
     },
     "execution_count": 22,
     "metadata": {},
     "output_type": "execute_result"
    }
   ],
   "source": [
    "nmf = NMF(n_components=n_topics, random_state=123)\n",
    "nmf.fit(dtm)"
   ]
  },
  {
   "cell_type": "code",
   "execution_count": 23,
   "metadata": {},
   "outputs": [
    {
     "data": {
      "text/plain": [
       "(5659, 20)"
      ]
     },
     "execution_count": 23,
     "metadata": {},
     "output_type": "execute_result"
    }
   ],
   "source": [
    "nmf.transform(dtm).shape"
   ]
  },
  {
   "cell_type": "code",
   "execution_count": 24,
   "metadata": {},
   "outputs": [
    {
     "data": {
      "text/plain": [
       "array([[0.00843275, 0.        , 0.06190026, ..., 0.01538264, 0.        ,\n",
       "        0.02281553],\n",
       "       [0.03502386, 0.00643227, 0.07647008, ..., 0.        , 0.        ,\n",
       "        0.00115703],\n",
       "       [0.0373439 , 0.01353162, 0.00938223, ..., 0.03601864, 0.00542564,\n",
       "        0.        ],\n",
       "       ...,\n",
       "       [0.01570732, 0.02413563, 0.00584491, ..., 0.00264618, 0.02798736,\n",
       "        0.0069851 ],\n",
       "       [0.01643588, 0.04492623, 0.02450606, ..., 0.        , 0.        ,\n",
       "        0.07182602],\n",
       "       [0.00618971, 0.        , 0.01705933, ..., 0.        , 0.        ,\n",
       "        0.00362692]])"
      ]
     },
     "execution_count": 24,
     "metadata": {},
     "output_type": "execute_result"
    }
   ],
   "source": [
    "nmf.transform(dtm)"
   ]
  },
  {
   "cell_type": "code",
   "execution_count": 25,
   "metadata": {},
   "outputs": [
    {
     "data": {
      "text/plain": [
       "(20, 10000)"
      ]
     },
     "execution_count": 25,
     "metadata": {},
     "output_type": "execute_result"
    }
   ],
   "source": [
    "nmf.components_.shape"
   ]
  },
  {
   "cell_type": "code",
   "execution_count": 26,
   "metadata": {},
   "outputs": [
    {
     "name": "stdout",
     "output_type": "stream",
     "text": [
      "Topic 0: \n",
      "['company', 'bad', 'customer', 'comcast', 'time', 'deal', 'like', 'people', 'business']\n",
      "Topic 1: \n",
      "['bill', 'month', 'pay', 'receive', 'late', 'dollar', 'credit', 'owe', 'billing']\n",
      "Topic 2: \n",
      "['internet', 'tv', 'work', 'use', 'connection', 'day', 'month', 'comcast', 'phone']\n",
      "Topic 3: \n",
      "['box', 'new', 'dvr', 'tv', 'hd', 'work', 'send', 'remote', 'replace']\n",
      "Topic 4: \n",
      "['modem', 'comcast', 'buy', 'router', 'new', 'rental', 'use', 'purchase', 'replace']\n",
      "Topic 5: \n",
      "['nan', 'xfinity', 'card', 'wifi', 'store', 'recommend', 'alarm', 'experience', 'security']\n",
      "Topic 6: \n",
      "['account', 'payment', 'credit', 'comcast', 'bank', 'check', 'email', 'money', 'collection']\n",
      "Topic 7: \n",
      "['contract', 'year', 'sign', 'price', 'month', 'rate', 'fee', '2', 'increase']\n",
      "Topic 8: \n",
      "['service', 'customer', 'cancel', 'poor', 'comcast', 'disconnect', 'provide', 'representative', 'rep']\n",
      "Topic 9: \n",
      "['appointment', 'technician', 'schedule', 'day', 'come', 'pm', 'wait', 'home', 'reschedule']\n",
      "Topic 10: \n",
      "['speed', 'high', 'mbp', 'slow', 'download', 'internet', 'test', 'mbps', 'fast']\n",
      "Topic 11: \n",
      "['problem', 'fix', 'issue', 'technician', 'comcast', 'time', 'resolve', 'connection', 'come']\n",
      "Topic 12: \n",
      "['phone', 'hour', 'number', 'time', 'minute', 'hold', 'spend', 'try', 'transfer']\n",
      "Topic 13: \n",
      "['channel', 'package', 'tv', 'digital', 'watch', 'basic', 'pay', 'movie', 'hd']\n",
      "Topic 14: \n",
      "['charge', 'fee', 'installation', 'month', 'remove', 'additional', 'extra', 'monthly', 'add']\n",
      "Topic 15: \n",
      "['equipment', 'return', 'comcast', 'collection', 'receive', 'cancel', 'receipt', 'refund', 'owe']\n",
      "Topic 16: \n",
      "['tech', 'come', 'work', 'line', 'home', 'house', 'support', 'send', 'signal']\n",
      "Topic 17: \n",
      "['...', '..', 'xfinity', '....', 'day', '3', 'transfer', '2', 'new']\n",
      "Topic 18: \n",
      "['tell', 'supervisor', 'ask', 'speak', 'rep', 'talk', 'representative', 'manager', 'explain']\n",
      "Topic 19: \n",
      "['cable', 'come', 'comcast', 'house', 'wire', 'bury', 'line', 'yard', 'run']\n"
     ]
    }
   ],
   "source": [
    "terms = tfidf_vector.get_feature_names()\n",
    "\n",
    "for i, comp in enumerate(nmf.components_):\n",
    "    terms_comp = zip(terms, comp)\n",
    "    sorted_terms = sorted(terms_comp, key= lambda x:x[1], reverse=True)[:9]\n",
    "    print(\"Topic \"+str(i)+\": \")\n",
    "    print([x[0] for x in sorted_terms])"
   ]
  },
  {
   "cell_type": "markdown",
   "metadata": {},
   "source": [
    "#### test coherence"
   ]
  },
  {
   "cell_type": "code",
   "execution_count": 27,
   "metadata": {},
   "outputs": [],
   "source": [
    "index = 5657"
   ]
  },
  {
   "cell_type": "code",
   "execution_count": 28,
   "metadata": {},
   "outputs": [
    {
     "data": {
      "text/plain": [
       "\"I am being ripped of by Comcast Cable regarding my billing.  I have had expanded/standard cable for years.  (The monthly cost for my area on their internet site states $32.78 per month), (the recent letter I received from Comcast states prices for my area also states $32.78 per month). My bill states I have cable (video) services which is not available in my area, and this is stated on comcast's internet site.  Ms. Talley states she did not know why this was on my bill.  I have got the run around period from comcast/employees with no solution to my problem.  I have copies of all e-mails I have written and all copies comcast have written me, I also have years of past receipts where I paid  and have been over charged for cable with comcast, and customer service does not seem to care or want to help me.\""
      ]
     },
     "execution_count": 28,
     "metadata": {},
     "output_type": "execute_result"
    }
   ],
   "source": [
    "reviews.text[index]"
   ]
  },
  {
   "cell_type": "code",
   "execution_count": 29,
   "metadata": {},
   "outputs": [
    {
     "data": {
      "text/plain": [
       "array([0.01643588, 0.04492623, 0.02450606, 0.        , 0.00346126,\n",
       "       0.        , 0.01348253, 0.0340244 , 0.01579923, 0.        ,\n",
       "       0.00390826, 0.0213415 , 0.        , 0.        , 0.01571784,\n",
       "       0.02144696, 0.        , 0.        , 0.        , 0.07182602])"
      ]
     },
     "execution_count": 29,
     "metadata": {},
     "output_type": "execute_result"
    }
   ],
   "source": [
    "nmf.transform(dtm)[index]"
   ]
  },
  {
   "cell_type": "code",
   "execution_count": 30,
   "metadata": {},
   "outputs": [
    {
     "data": {
      "text/plain": [
       "19"
      ]
     },
     "execution_count": 30,
     "metadata": {},
     "output_type": "execute_result"
    }
   ],
   "source": [
    "nmf.transform(dtm)[index].argmax()"
   ]
  },
  {
   "cell_type": "code",
   "execution_count": 31,
   "metadata": {},
   "outputs": [
    {
     "data": {
      "text/plain": [
       "array([ 2,  2,  8, ..., 14, 19, 11], dtype=int64)"
      ]
     },
     "execution_count": 31,
     "metadata": {},
     "output_type": "execute_result"
    }
   ],
   "source": [
    "nmf.transform(dtm).argmax(axis = 1)"
   ]
  },
  {
   "cell_type": "code",
   "execution_count": 32,
   "metadata": {},
   "outputs": [
    {
     "data": {
      "text/plain": [
       "<matplotlib.axes._subplots.AxesSubplot at 0x18b333760c8>"
      ]
     },
     "execution_count": 32,
     "metadata": {},
     "output_type": "execute_result"
    },
    {
     "data": {
      "image/png": "[encoded data removed]",
      "text/plain": [
       "<Figure size 432x288 with 1 Axes>"
      ]
     },
     "metadata": {
      "needs_background": "light"
     },
     "output_type": "display_data"
    }
   ],
   "source": [
    "pd.Series(nmf.transform(dtm).argmax(axis = 1)).value_counts().plot.bar()"
   ]
  },
  {
   "cell_type": "code",
   "execution_count": 33,
   "metadata": {},
   "outputs": [
    {
     "data": {
      "text/plain": [
       "(5659, 20)"
      ]
     },
     "execution_count": 33,
     "metadata": {},
     "output_type": "execute_result"
    }
   ],
   "source": [
    "nmf.transform(dtm).shape"
   ]
  },
  {
   "cell_type": "code",
   "execution_count": null,
   "metadata": {},
   "outputs": [],
   "source": []
  },
  {
   "cell_type": "code",
   "execution_count": 34,
   "metadata": {},
   "outputs": [],
   "source": [
    "from gensim.test.utils import common_corpus, common_dictionary"
   ]
  },
  {
   "cell_type": "code",
   "execution_count": 35,
   "metadata": {},
   "outputs": [],
   "source": [
    "from gensim.test.utils import common_corpus, common_dictionary\n",
    "from gensim.models.coherencemodel import CoherenceModel\n",
    "topics = [\n",
    "    ['human', 'computer', 'system', 'interface'],\n",
    "    ['graph', 'minors', 'trees', 'eps']\n",
    "]\n",
    "\n",
    "cm = CoherenceModel(topics=topics, corpus=common_corpus, dictionary=common_dictionary, coherence='u_mass')\n",
    "coherence = cm.get_coherence()  # get coherence value"
   ]
  },
  {
   "cell_type": "code",
   "execution_count": 36,
   "metadata": {},
   "outputs": [
    {
     "data": {
      "text/plain": [
       "-7.105015580153772"
      ]
     },
     "execution_count": 36,
     "metadata": {},
     "output_type": "execute_result"
    }
   ],
   "source": [
    "coherence"
   ]
  },
  {
   "cell_type": "code",
   "execution_count": 37,
   "metadata": {},
   "outputs": [
    {
     "data": {
      "text/plain": [
       "[[(0, 1), (1, 1), (2, 1)],\n",
       " [(0, 1), (3, 1), (4, 1), (5, 1), (6, 1), (7, 1)],\n",
       " [(2, 1), (5, 1), (7, 1), (8, 1)],\n",
       " [(1, 1), (5, 2), (8, 1)],\n",
       " [(3, 1), (6, 1), (7, 1)],\n",
       " [(9, 1)],\n",
       " [(9, 1), (10, 1)],\n",
       " [(9, 1), (10, 1), (11, 1)],\n",
       " [(4, 1), (10, 1), (11, 1)]]"
      ]
     },
     "execution_count": 37,
     "metadata": {},
     "output_type": "execute_result"
    }
   ],
   "source": [
    "common_corpus"
   ]
  },
  {
   "cell_type": "code",
   "execution_count": 38,
   "metadata": {},
   "outputs": [
    {
     "data": {
      "text/plain": [
       "{}"
      ]
     },
     "execution_count": 38,
     "metadata": {},
     "output_type": "execute_result"
    }
   ],
   "source": [
    "common_dictionary.id2token"
   ]
  },
  {
   "cell_type": "code",
   "execution_count": null,
   "metadata": {},
   "outputs": [],
   "source": []
  },
  {
   "cell_type": "code",
   "execution_count": 39,
   "metadata": {},
   "outputs": [],
   "source": [
    "from gensim.models.coherencemodel import CoherenceModel\n",
    "from gensim.models.ldamodel import LdaModel\n",
    "from gensim.models.hdpmodel import HdpModel\n",
    "from gensim.models.wrappers import LdaVowpalWabbit, LdaMallet\n",
    "from gensim.corpora.dictionary import Dictionary\n",
    "from numpy import array"
   ]
  },
  {
   "cell_type": "code",
   "execution_count": 40,
   "metadata": {},
   "outputs": [],
   "source": [
    "texts = [['human', 'interface', 'computer'],\n",
    "         ['survey', 'user', 'computer', 'system', 'response', 'time'],\n",
    "         ['eps', 'user', 'interface', 'system'],\n",
    "         ['system', 'human', 'system', 'eps'],\n",
    "         ['user', 'response', 'time'],\n",
    "         ['trees'],\n",
    "         ['graph', 'trees'],\n",
    "         ['graph', 'minors', 'trees'],\n",
    "         ['graph', 'minors', 'survey']]\n",
    "\n",
    "dictionary = Dictionary(texts)\n",
    "corpus = [dictionary.doc2bow(text) for text in texts]"
   ]
  },
  {
   "cell_type": "code",
   "execution_count": 41,
   "metadata": {
    "scrolled": true
   },
   "outputs": [
    {
     "data": {
      "text/plain": [
       "{'computer': 0,\n",
       " 'human': 1,\n",
       " 'interface': 2,\n",
       " 'response': 3,\n",
       " 'survey': 4,\n",
       " 'system': 5,\n",
       " 'time': 6,\n",
       " 'user': 7,\n",
       " 'eps': 8,\n",
       " 'trees': 9,\n",
       " 'graph': 10,\n",
       " 'minors': 11}"
      ]
     },
     "execution_count": 41,
     "metadata": {},
     "output_type": "execute_result"
    }
   ],
   "source": [
    "dictionary.token2id"
   ]
  },
  {
   "cell_type": "code",
   "execution_count": 42,
   "metadata": {},
   "outputs": [],
   "source": [
    "hm = HdpModel(corpus=corpus, id2word=dictionary)"
   ]
  },
  {
   "cell_type": "code",
   "execution_count": 43,
   "metadata": {},
   "outputs": [
    {
     "data": {
      "text/plain": [
       "[(0,\n",
       "  [('computer', 0.22919730322038587),\n",
       "   ('trees', 0.19566307632699254),\n",
       "   ('graph', 0.17972449969561735),\n",
       "   ('human', 0.10696362439309584),\n",
       "   ('response', 0.07735008058757822),\n",
       "   ('user', 0.06256748151584882),\n",
       "   ('minors', 0.062432369620156705),\n",
       "   ('interface', 0.03563775548819743),\n",
       "   ('survey', 0.026493694413953117),\n",
       "   ('system', 0.010491117483136867),\n",
       "   ('eps', 0.009284985800516812),\n",
       "   ('time', 0.004194011454520406)]),\n",
       " (1,\n",
       "  [('minors', 0.2022064722070997),\n",
       "   ('survey', 0.1402907880940196),\n",
       "   ('user', 0.13371366876740676),\n",
       "   ('computer', 0.12914185443910675),\n",
       "   ('system', 0.10616280937423497),\n",
       "   ('response', 0.09942144387100194),\n",
       "   ('graph', 0.09427772670254696),\n",
       "   ('eps', 0.02936069074333337),\n",
       "   ('interface', 0.02508598106947985),\n",
       "   ('trees', 0.019462396887658506),\n",
       "   ('time', 0.017315067439665578),\n",
       "   ('human', 0.0035611004044461035)]),\n",
       " (2,\n",
       "  [('system', 0.29912426885426935),\n",
       "   ('computer', 0.18389010156948754),\n",
       "   ('survey', 0.15773775546939414),\n",
       "   ('time', 0.0876900116104021),\n",
       "   ('minors', 0.08156176182935566),\n",
       "   ('trees', 0.05506807579721814),\n",
       "   ('response', 0.04270427470038905),\n",
       "   ('user', 0.027801391199048182),\n",
       "   ('graph', 0.021382526018091007),\n",
       "   ('human', 0.02033409037489428),\n",
       "   ('eps', 0.014773760908937629),\n",
       "   ('interface', 0.007931981668512746)]),\n",
       " (3,\n",
       "  [('interface', 0.2183789950699618),\n",
       "   ('survey', 0.19330075294804486),\n",
       "   ('human', 0.17015357673316073),\n",
       "   ('system', 0.1262810636693118),\n",
       "   ('computer', 0.06566678257783211),\n",
       "   ('response', 0.0653489568757265),\n",
       "   ('graph', 0.050084128836886704),\n",
       "   ('minors', 0.04595124586325058),\n",
       "   ('trees', 0.022632508610323395),\n",
       "   ('user', 0.01612194883476842),\n",
       "   ('eps', 0.014029472212119518),\n",
       "   ('time', 0.01205056776861342)]),\n",
       " (4,\n",
       "  [('interface', 0.18335641820020332),\n",
       "   ('system', 0.16092247761041506),\n",
       "   ('trees', 0.14670551806054288),\n",
       "   ('minors', 0.11419054708256851),\n",
       "   ('eps', 0.10558107615385874),\n",
       "   ('computer', 0.0723785925022018),\n",
       "   ('user', 0.06000827554857984),\n",
       "   ('graph', 0.0535725651829735),\n",
       "   ('survey', 0.039927483093812915),\n",
       "   ('response', 0.03400470658548941),\n",
       "   ('time', 0.01601661362247404),\n",
       "   ('human', 0.013335726356880072)]),\n",
       " (5,\n",
       "  [('minors', 0.21553706591383576),\n",
       "   ('graph', 0.15335142832206028),\n",
       "   ('eps', 0.14578865834230015),\n",
       "   ('user', 0.09593354454954732),\n",
       "   ('human', 0.067137766608983),\n",
       "   ('time', 0.06465254054856644),\n",
       "   ('interface', 0.06425242196675733),\n",
       "   ('computer', 0.061937622875309184),\n",
       "   ('trees', 0.04723068111966674),\n",
       "   ('response', 0.0392111273618465),\n",
       "   ('survey', 0.033008418055965064),\n",
       "   ('system', 0.011958724335162377)]),\n",
       " (6,\n",
       "  [('time', 0.24276632175041518),\n",
       "   ('trees', 0.22441112549588996),\n",
       "   ('survey', 0.1735109544073029),\n",
       "   ('graph', 0.09361954471004004),\n",
       "   ('computer', 0.09319927870165441),\n",
       "   ('interface', 0.04995439831919833),\n",
       "   ('response', 0.04768546802699944),\n",
       "   ('system', 0.03531058920957604),\n",
       "   ('human', 0.023135529020828573),\n",
       "   ('eps', 0.007723172894377289),\n",
       "   ('minors', 0.0073648991284054315),\n",
       "   ('user', 0.0013187183353123738)]),\n",
       " (7,\n",
       "  [('interface', 0.2358467807373702),\n",
       "   ('system', 0.17430868228301308),\n",
       "   ('survey', 0.11972972679769837),\n",
       "   ('graph', 0.11248549274805139),\n",
       "   ('time', 0.07654802407098087),\n",
       "   ('response', 0.07624863304891018),\n",
       "   ('minors', 0.05663498971203868),\n",
       "   ('user', 0.0451071273206063),\n",
       "   ('human', 0.040259587126856115),\n",
       "   ('eps', 0.035546992985481946),\n",
       "   ('computer', 0.01793052334333103),\n",
       "   ('trees', 0.009353439825661914)]),\n",
       " (8,\n",
       "  [('eps', 0.4451413888639921),\n",
       "   ('interface', 0.2135069256216578),\n",
       "   ('graph', 0.07950461660559555),\n",
       "   ('human', 0.07647931445688927),\n",
       "   ('survey', 0.05370136868213881),\n",
       "   ('system', 0.051605830503926114),\n",
       "   ('time', 0.04640537634421267),\n",
       "   ('minors', 0.015701254274499196),\n",
       "   ('trees', 0.009280034828105695),\n",
       "   ('user', 0.00471153282499633),\n",
       "   ('response', 0.002587310421986795),\n",
       "   ('computer', 0.0013750465719998323)]),\n",
       " (9,\n",
       "  [('eps', 0.2457611919175596),\n",
       "   ('system', 0.22995733214086528),\n",
       "   ('human', 0.17658415769999683),\n",
       "   ('computer', 0.08105249365983867),\n",
       "   ('response', 0.07229919475695219),\n",
       "   ('interface', 0.04585025251879937),\n",
       "   ('time', 0.04350571562788302),\n",
       "   ('minors', 0.03270147977414423),\n",
       "   ('graph', 0.025011151436258656),\n",
       "   ('trees', 0.0248556493354093),\n",
       "   ('survey', 0.022180938068483803),\n",
       "   ('user', 0.0002404430638089862)])]"
      ]
     },
     "execution_count": 43,
     "metadata": {},
     "output_type": "execute_result"
    }
   ],
   "source": [
    "hm.show_topics(num_topics=10, formatted=False)"
   ]
  },
  {
   "cell_type": "code",
   "execution_count": 44,
   "metadata": {
    "scrolled": true
   },
   "outputs": [
    {
     "data": {
      "text/plain": [
       "[['computer',\n",
       "  'trees',\n",
       "  'graph',\n",
       "  'human',\n",
       "  'response',\n",
       "  'user',\n",
       "  'minors',\n",
       "  'interface',\n",
       "  'survey',\n",
       "  'system',\n",
       "  'eps',\n",
       "  'time'],\n",
       " ['minors',\n",
       "  'survey',\n",
       "  'user',\n",
       "  'computer',\n",
       "  'system',\n",
       "  'response',\n",
       "  'graph',\n",
       "  'eps',\n",
       "  'interface',\n",
       "  'trees',\n",
       "  'time',\n",
       "  'human']]"
      ]
     },
     "execution_count": 44,
     "metadata": {},
     "output_type": "execute_result"
    }
   ],
   "source": [
    "# To get the topic words from the model\n",
    "topics = []\n",
    "for topic_id, topic in hm.show_topics(num_topics=10, formatted=False):\n",
    "    topic = [word for word, _ in topic]\n",
    "    topics.append(topic)\n",
    "topics[:2]"
   ]
  },
  {
   "cell_type": "code",
   "execution_count": 45,
   "metadata": {},
   "outputs": [
    {
     "data": {
      "text/plain": [
       "0.38384135537372027"
      ]
     },
     "execution_count": 45,
     "metadata": {},
     "output_type": "execute_result"
    }
   ],
   "source": [
    "# Initialize CoherenceModel using `topics` parameter\n",
    "cm = CoherenceModel(topics=topics, corpus=corpus, texts=texts, dictionary=dictionary, coherence='c_v')\n",
    "cm.get_coherence()"
   ]
  },
  {
   "cell_type": "code",
   "execution_count": null,
   "metadata": {},
   "outputs": [],
   "source": []
  }
 ],
 "metadata": {
  "kernelspec": {
   "display_name": "Python 3.7.7 64-bit ('deep_learning': conda)",
   "language": "python",
   "name": "python37764bitdeeplearningcondacaa47fc2d71541b899195723e6a0fd96"
  },
  "language_info": {
   "codemirror_mode": {
    "name": "ipython",
    "version": 3
   },
   "file_extension": ".py",
   "mimetype": "text/x-python",
   "name": "python",
   "nbconvert_exporter": "python",
   "pygments_lexer": "ipython3",
   "version": "3.7.7"
  }
 },
 "nbformat": 4,
 "nbformat_minor": 4
}
